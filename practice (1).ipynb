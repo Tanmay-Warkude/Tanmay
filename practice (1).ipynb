{
 "cells": [
  {
   "cell_type": "code",
   "execution_count": 4,
   "id": "3d82f150-51f3-4eab-915c-649924ba294c",
   "metadata": {},
   "outputs": [
    {
     "name": "stdout",
     "output_type": "stream",
     "text": [
      "15\n"
     ]
    }
   ],
   "source": [
    "# 1.Write a function that accepts *args and returns their sum.\n",
    "\n",
    "def sum_of_num(*args):\n",
    "    return sum(args)\n",
    "print(sum_of_num(1,2,3,4,5))"
   ]
  },
  {
   "cell_type": "code",
   "execution_count": 5,
   "id": "75a87b52-acd0-4d80-9c14-16555a4b5218",
   "metadata": {},
   "outputs": [
    {
     "data": {
      "text/plain": [
       "'nohtyp'"
      ]
     },
     "execution_count": 5,
     "metadata": {},
     "output_type": "execute_result"
    }
   ],
   "source": [
    "# 2.Write a function to reverse a string\n",
    "\n",
    "def reverse_str(a):\n",
    "    return(a[::-1])\n",
    "reverse_str(\"python\")"
   ]
  },
  {
   "cell_type": "code",
   "execution_count": 8,
   "id": "660fbc4b-5c13-4709-a1c6-a81a92b9c82d",
   "metadata": {},
   "outputs": [
    {
     "name": "stdout",
     "output_type": "stream",
     "text": [
      "its palindrome\n"
     ]
    }
   ],
   "source": [
    "# 3 Write a function to check if a string is a palindrome.\n",
    "\n",
    "def palin(a):\n",
    "    if a == a [::-1]:\n",
    "        print(\"its palindrome\")\n",
    "    else:\n",
    "        print(\"its not palindrome\")\n",
    "palin(\"madam\")"
   ]
  },
  {
   "cell_type": "code",
   "execution_count": 7,
   "id": "2c3be46a-f54a-4b9e-b262-0c827e398047",
   "metadata": {},
   "outputs": [
    {
     "data": {
      "text/plain": [
       "8"
      ]
     },
     "execution_count": 7,
     "metadata": {},
     "output_type": "execute_result"
    }
   ],
   "source": [
    "# 4. Write a function to count vowels in a string.\n",
    "def checkvowel(a):\n",
    "    string = a.lower()\n",
    "    count = 0\n",
    "    for char in string:\n",
    "        if char in \"aeiou\":\n",
    "            count += 1\n",
    "    return count\n",
    "checkvowel(\"nature is beutiful\")"
   ]
  },
  {
   "cell_type": "code",
   "execution_count": 21,
   "id": "729db252-81d6-4c2e-8cdc-5aff9ef151a4",
   "metadata": {},
   "outputs": [
    {
     "name": "stdout",
     "output_type": "stream",
     "text": [
      "number is: 39\n"
     ]
    }
   ],
   "source": [
    "# 5.Write a function that returns the larger of two numbers\n",
    "def large_no(a,b):\n",
    "    a = int(a)\n",
    "    b = int(b)\n",
    "    if a >= b:\n",
    "        print(\"number is:\",a)\n",
    "    else:\n",
    "        print(\"number is:\",b)\n",
    "large_no(\"34\",\"39\")"
   ]
  },
  {
   "cell_type": "code",
   "execution_count": 27,
   "id": "05c8c060-ba44-4684-96d9-6c752466a6cc",
   "metadata": {},
   "outputs": [
    {
     "ename": "RecursionError",
     "evalue": "maximum recursion depth exceeded",
     "output_type": "error",
     "traceback": [
      "\u001b[1;31m---------------------------------------------------------------------------\u001b[0m",
      "\u001b[1;31mRecursionError\u001b[0m                            Traceback (most recent call last)",
      "Cell \u001b[1;32mIn[27], line 8\u001b[0m\n\u001b[0;32m      6\u001b[0m     \u001b[38;5;28;01melse\u001b[39;00m:\n\u001b[0;32m      7\u001b[0m         \u001b[38;5;28;01mreturn\u001b[39;00m \u001b[38;5;241m1\u001b[39m \u001b[38;5;241m+\u001b[39m count_int(a \u001b[38;5;241m%\u001b[39m \u001b[38;5;241m10\u001b[39m)\n\u001b[1;32m----> 8\u001b[0m \u001b[38;5;28mprint\u001b[39m(count_int(\u001b[38;5;241m12345\u001b[39m))\n",
      "Cell \u001b[1;32mIn[27], line 7\u001b[0m, in \u001b[0;36mcount_int\u001b[1;34m(a)\u001b[0m\n\u001b[0;32m      5\u001b[0m     \u001b[38;5;28;01mreturn\u001b[39;00m \u001b[38;5;241m0\u001b[39m\n\u001b[0;32m      6\u001b[0m \u001b[38;5;28;01melse\u001b[39;00m:\n\u001b[1;32m----> 7\u001b[0m     \u001b[38;5;28;01mreturn\u001b[39;00m \u001b[38;5;241m1\u001b[39m \u001b[38;5;241m+\u001b[39m count_int(a \u001b[38;5;241m%\u001b[39m \u001b[38;5;241m10\u001b[39m)\n",
      "Cell \u001b[1;32mIn[27], line 7\u001b[0m, in \u001b[0;36mcount_int\u001b[1;34m(a)\u001b[0m\n\u001b[0;32m      5\u001b[0m     \u001b[38;5;28;01mreturn\u001b[39;00m \u001b[38;5;241m0\u001b[39m\n\u001b[0;32m      6\u001b[0m \u001b[38;5;28;01melse\u001b[39;00m:\n\u001b[1;32m----> 7\u001b[0m     \u001b[38;5;28;01mreturn\u001b[39;00m \u001b[38;5;241m1\u001b[39m \u001b[38;5;241m+\u001b[39m count_int(a \u001b[38;5;241m%\u001b[39m \u001b[38;5;241m10\u001b[39m)\n",
      "    \u001b[1;31m[... skipping similar frames: count_int at line 7 (2974 times)]\u001b[0m\n",
      "Cell \u001b[1;32mIn[27], line 7\u001b[0m, in \u001b[0;36mcount_int\u001b[1;34m(a)\u001b[0m\n\u001b[0;32m      5\u001b[0m     \u001b[38;5;28;01mreturn\u001b[39;00m \u001b[38;5;241m0\u001b[39m\n\u001b[0;32m      6\u001b[0m \u001b[38;5;28;01melse\u001b[39;00m:\n\u001b[1;32m----> 7\u001b[0m     \u001b[38;5;28;01mreturn\u001b[39;00m \u001b[38;5;241m1\u001b[39m \u001b[38;5;241m+\u001b[39m count_int(a \u001b[38;5;241m%\u001b[39m \u001b[38;5;241m10\u001b[39m)\n",
      "\u001b[1;31mRecursionError\u001b[0m: maximum recursion depth exceeded"
     ]
    }
   ],
   "source": [
    "#write a recursive function to count the number of digits in an integer\n",
    "\n",
    "def count_int(a):\n",
    "    if a == 0:\n",
    "        return 0\n",
    "    else:\n",
    "        return 1 + count_int(a % 10)\n",
    "print(count_int(12345))"
   ]
  },
  {
   "cell_type": "code",
   "execution_count": 30,
   "id": "07057cf7-f85e-4a28-ae66-414d88c4ebba",
   "metadata": {},
   "outputs": [
    {
     "name": "stdout",
     "output_type": "stream",
     "text": [
      "False\n"
     ]
    }
   ],
   "source": [
    "#Write a recursive function to check if a number is even (without using %).\n",
    "\n",
    "def check_int(a):\n",
    "    if a == 0:\n",
    "        return True\n",
    "    elif a == 1:\n",
    "        return False\n",
    "    return check_int(a - 2)\n",
    "print(check_int(5))"
   ]
  },
  {
   "cell_type": "code",
   "execution_count": 34,
   "id": "db6ee19f-dfc4-4053-a7ef-6833759d6670",
   "metadata": {},
   "outputs": [
    {
     "name": "stdout",
     "output_type": "stream",
     "text": [
      "odd\n",
      "even\n"
     ]
    }
   ],
   "source": [
    "#Write a recursive function to check if a number is even (without using %).\n",
    "\n",
    "def check_val(a):\n",
    "    if a % 2 == 0:\n",
    "        print(\"even\")\n",
    "    else:\n",
    "        print(\"odd\")\n",
    "check_val(33)\n",
    "check_val(20)"
   ]
  },
  {
   "cell_type": "code",
   "execution_count": 36,
   "id": "e1b37b4d-25be-41ae-b168-d93d65646fb8",
   "metadata": {},
   "outputs": [
    {
     "ename": "SyntaxError",
     "evalue": "invalid syntax (1866082461.py, line 6)",
     "output_type": "error",
     "traceback": [
      "\u001b[1;36m  Cell \u001b[1;32mIn[36], line 6\u001b[1;36m\u001b[0m\n\u001b[1;33m    a % 2 == 1:\u001b[0m\n\u001b[1;37m              ^\u001b[0m\n\u001b[1;31mSyntaxError\u001b[0m\u001b[1;31m:\u001b[0m invalid syntax\n"
     ]
    }
   ],
   "source": [
    "#Write a recursive function to sum even numbers from 1 to n.\n",
    "def even_num(a):\n",
    "    if a == 0:\n",
    "        return 0\n",
    "    else:\n",
    "        a % 2 == 1:\n",
    "        return even_num(a - 1)\n",
    "print(sum_even(10))"
   ]
  },
  {
   "cell_type": "code",
   "execution_count": 61,
   "id": "40c9fa01-ef28-48a4-baf1-88165745aa67",
   "metadata": {},
   "outputs": [
    {
     "name": "stdout",
     "output_type": "stream",
     "text": [
      "this is not leap year\n"
     ]
    }
   ],
   "source": [
    "#Write a function that checks if a year is a leap year.\n",
    "\n",
    "def leap_year(a):\n",
    "    if ( a % 4 == 0):\n",
    "        print(\"this is a leap year\")\n",
    "    else:\n",
    "        print(\"this is not leap year\")\n",
    "leap_year(2023)"
   ]
  },
  {
   "cell_type": "code",
   "execution_count": 62,
   "id": "97458d57-109b-4c65-95aa-41d505767eed",
   "metadata": {},
   "outputs": [
    {
     "name": "stdout",
     "output_type": "stream",
     "text": [
      "25.0\n"
     ]
    }
   ],
   "source": [
    "#Write a function to calculate the average of numbers in a list.\n",
    "\n",
    "def average_num(a):\n",
    "    if a == 0:\n",
    "        return 0\n",
    "    else:\n",
    "        return sum(a) / len(a)\n",
    "list = [10,20,30,40]\n",
    "print(average_num(list))"
   ]
  },
  {
   "cell_type": "code",
   "execution_count": 11,
   "id": "ba07b470-fca8-4949-99d6-b439ac06e1ab",
   "metadata": {},
   "outputs": [
    {
     "ename": "IndentationError",
     "evalue": "unexpected indent (2435219092.py, line 2)",
     "output_type": "error",
     "traceback": [
      "\u001b[1;36m  Cell \u001b[1;32mIn[11], line 2\u001b[1;36m\u001b[0m\n\u001b[1;33m    if len(password) < 8:\u001b[0m\n\u001b[1;37m    ^\u001b[0m\n\u001b[1;31mIndentationError\u001b[0m\u001b[1;31m:\u001b[0m unexpected indent\n"
     ]
    }
   ],
   "source": [
    "password = input(\"enter your password:\")\n",
    "    if len(password) < 8:\n",
    "        print(\"password must be 8 character long\")\n",
    "    elif password any(char.isupper() for char in password):\n",
    "        print(\"at least one uppercase letter needed\")\n",
    "    elif password any(char.islower() for char in password):\n",
    "        print(\"at least one lowercase leeted needed\")\n",
    "    elif password any(char.isdigit() for char in password):\n",
    "        print(\"at least one digit is needed\")\n",
    "    else:\n",
    "        print(\"password is valid\")"
   ]
  },
  {
   "cell_type": "code",
   "execution_count": 8,
   "id": "f27e016d-bc05-46e4-8c40-8d30ae5e101b",
   "metadata": {},
   "outputs": [
    {
     "name": "stdin",
     "output_type": "stream",
     "text": [
      "Enter your password:  tanmlabca@98898\n"
     ]
    },
    {
     "name": "stdout",
     "output_type": "stream",
     "text": [
      "Password is invalid.\n"
     ]
    }
   ],
   "source": [
    "password = input(\"Enter your password: \")\n",
    "if len(password) >= 8:\n",
    "    has_upper = False\n",
    "    has_lower = False\n",
    "    has_digit = False\n",
    "    \n",
    "    for char in password:\n",
    "        if char.isupper():\n",
    "            has_upper = True\n",
    "        elif char.islower():\n",
    "            has_lower = True\n",
    "        elif char.isdigit():\n",
    "            has_digit = True\n",
    "\n",
    "    if has_upper and has_lower and has_digit:\n",
    "        print(\"Password is valid.\")\n",
    "    else:\n",
    "        print(\"Password is invalid.\")\n",
    "else:\n",
    "    print(\"Password is invalid.\")"
   ]
  },
  {
   "cell_type": "code",
   "execution_count": 26,
   "id": "437eb3a5-05e7-4135-9423-5e5647524e20",
   "metadata": {},
   "outputs": [
    {
     "name": "stdin",
     "output_type": "stream",
     "text": [
      "enter your first string:  silent\n",
      "enter your second string:  listen\n"
     ]
    },
    {
     "name": "stdout",
     "output_type": "stream",
     "text": [
      "this is anagram\n"
     ]
    }
   ],
   "source": [
    "def anagram(str1 , str2):\n",
    "    str1 = str1.lower()\n",
    "    str2 = str2.lower()\n",
    "    if sorted(str1) == sorted(str2):\n",
    "        print(\"this is anagram\")\n",
    "    else:\n",
    "        print(\"this is not anagram\")\n",
    "str1 = input(\"enter your first string: \")\n",
    "str2 = input(\"enter your second string: \")\n",
    "anagram(str1,str2)"
   ]
  },
  {
   "cell_type": "code",
   "execution_count": 4,
   "id": "4de9cd12-cb4a-4180-9ce5-1f529716823b",
   "metadata": {},
   "outputs": [
    {
     "name": "stdout",
     "output_type": "stream",
     "text": [
      "54321\n"
     ]
    }
   ],
   "source": [
    "#Write a Python Program to Reverse a Number Using String Slicing\n",
    "\n",
    "num = \"12345\"\n",
    "reverse = num[::-1]\n",
    "print(reverse)"
   ]
  },
  {
   "cell_type": "code",
   "execution_count": 14,
   "id": "071edae9-371c-460c-97b5-d5283d431e55",
   "metadata": {},
   "outputs": [
    {
     "name": "stdout",
     "output_type": "stream",
     "text": [
      "merged list is: [5, 6, 7, 8, 1, 2, 3, 4]\n"
     ]
    }
   ],
   "source": [
    "#Write a Python program to Merge Two Sorted Lists\n",
    "\n",
    "lst_1 = [1,2,3,4]\n",
    "lst_2 = [5,6,7,8]\n",
    "\n",
    "merge = lst_2 + lst_1\n",
    "print(f\"merged list is: {merge}\")"
   ]
  },
  {
   "cell_type": "code",
   "execution_count": null,
   "id": "5459d2b5-6d3f-4016-9f39-a3068f5e77db",
   "metadata": {},
   "outputs": [],
   "source": [
    "#Write a Python Program to Merge Two Dictionaries\n",
    "\n",
    "dict1 = "
   ]
  },
  {
   "cell_type": "code",
   "execution_count": 2,
   "id": "f73c0ae2-584a-4a7c-8297-6e20f349fe98",
   "metadata": {},
   "outputs": [
    {
     "name": "stdout",
     "output_type": "stream",
     "text": [
      "hello\n"
     ]
    }
   ],
   "source": [
    "# Write a Python program to access a function inside a function.\n",
    "\n",
    "def outer():\n",
    "    def inner():\n",
    "        print(\"hello\")\n",
    "    inner()\n",
    "outer()"
   ]
  },
  {
   "cell_type": "code",
   "execution_count": 9,
   "id": "696410aa-d61a-4a09-9801-52b8fb9e2b8a",
   "metadata": {},
   "outputs": [
    {
     "name": "stdout",
     "output_type": "stream",
     "text": [
      "Hello\n"
     ]
    }
   ],
   "source": [
    "def show_line(language):\n",
    "    def in_letters():\n",
    "        print(\"Hello\")\n",
    "    def in_numbers():\n",
    "        print(\"12345\")\n",
    "    if language == \"num\":\n",
    "        in_numbers()\n",
    "    else:\n",
    "        in_letters()\n",
    "\n",
    "show_line(\"\")"
   ]
  },
  {
   "cell_type": "code",
   "execution_count": 12,
   "id": "79fd3aca-f603-42e1-b06e-10649105ea0b",
   "metadata": {},
   "outputs": [
    {
     "name": "stdout",
     "output_type": "stream",
     "text": [
      "12345\n"
     ]
    }
   ],
   "source": [
    "def shiw_line(language):\n",
    "    def in_letter():\n",
    "        print(\"hello\")\n",
    "    def in_num():\n",
    "        print(\"12345\")\n",
    "    if language == \"num\":\n",
    "        in_number()\n",
    "    else:\n",
    "        in_letter()\n",
    "\n",
    "show_line(\"num\")"
   ]
  },
  {
   "cell_type": "code",
   "execution_count": 9,
   "id": "1d15f7dc-903a-4fb1-bf00-369d2c21837a",
   "metadata": {},
   "outputs": [
    {
     "name": "stdout",
     "output_type": "stream",
     "text": [
      "    0\n",
      "0  20\n",
      "1  30\n",
      "2  40\n",
      "3  50\n",
      "A    120\n",
      "B    130\n",
      "C    140\n",
      "D    150\n",
      "E    160\n",
      "dtype: int64\n"
     ]
    }
   ],
   "source": [
    "import pandas as pd\n",
    "\n",
    "a = pd.DataFrame([20,30,40,50])\n",
    "print(a)\n",
    "\n",
    "b = pd.Series([120,130,140,150,160], index=['A', 'B', 'C', 'D','E'])\n",
    "\n",
    "print(b)"
   ]
  },
  {
   "cell_type": "code",
   "execution_count": 1,
   "id": "50966971-fb6e-4e2d-8a8f-56ddb39fcfb4",
   "metadata": {},
   "outputs": [
    {
     "name": "stdout",
     "output_type": "stream",
     "text": [
      "      Emp_name  Emp_age    EmpCity Emp_ID        Emp_Dept   Emp_designation  \\\n",
      "0       tanmay       22       pune  us795             all         executive   \n",
      "1         ajay       23  karnataka  wu508         network           manager   \n",
      "2       kushal       35        goa  aj68s             vip    junior manager   \n",
      "3       devesh       40     satara  kd368         meeting                hr   \n",
      "4        kiran       25     sangli  rv769         eucdept            helper   \n",
      "5    aishwarya       45     kerala  uv999    helpeingdept           cleaner   \n",
      "6      kanchan       50      kochi  vu001        cleaning           printer   \n",
      "7        suraj       21     punjab  hx999  printerservice            laptop   \n",
      "8       garima       23       kulu  aa001         finance    finance person   \n",
      "9        rahul       24     manali  ol615            cgsa           calling   \n",
      "10      kishor       25   dehradun  np222             gcc           IT head   \n",
      "11    virendra       26      vizag  jp877          global  IT service owner   \n",
      "12    thushara       27   banglore  xr971      IT service     Network Owner   \n",
      "13  dhanashree       45      noida  lo099             Tax   staff associate   \n",
      "14     praneta       54      delhi  hi063        careteam               CWK   \n",
      "15      neeraj       37     mumbai  nl685    manufacuring      Indirect Tax   \n",
      "16      yogesh       54    chennai  fo671           buyer   legal associate   \n",
      "17       gopal       34     jaipur  ro677           legal    payment leader   \n",
      "18      sanket       43   mirzapur  ey847             abo            leader   \n",
      "19        yash       41   wassepur  va888    payment team         associate   \n",
      "\n",
      "    Emp_salary  \n",
      "0        23000  \n",
      "1        25000  \n",
      "2        20000  \n",
      "3        30000  \n",
      "4        80000  \n",
      "5        10000  \n",
      "6        20000  \n",
      "7        10000  \n",
      "8        35000  \n",
      "9       100000  \n",
      "10      560000  \n",
      "11      230000  \n",
      "12       75000  \n",
      "13       48000  \n",
      "14       68000  \n",
      "15      120000  \n",
      "16       50000  \n",
      "17       84000  \n",
      "18       10000  \n",
      "19       32000  \n"
     ]
    }
   ],
   "source": [
    "import pandas as pd\n",
    "\n",
    "a = {\n",
    "    \"Emp_name\": [\"tanmay\",\"ajay\",\"kushal\",\"devesh\",\"kiran\",\"aishwarya\",\"kanchan\",\"suraj\",\"garima\",\"rahul\",\"kishor\",\"virendra\",\"thushara\",\"dhanashree\",\"praneta\",\"neeraj\",\"yogesh\",\"gopal\",\"sanket\",\"yash\"],\n",
    "    \"Emp_age\": [22,23,35,40,25,45,50,21,23,24,25,26,27,45,54,37,54,34,43,41],\n",
    "    \"EmpCity\": [\"pune\",\"karnataka\",\"goa\",\"satara\",\"sangli\",\"kerala\",\"kochi\",\"punjab\",\"kulu\",\"manali\",\"dehradun\",\"vizag\",\"banglore\",\"noida\",\"delhi\",\"mumbai\",\"chennai\",\"jaipur\",\"mirzapur\",\"wassepur\"],\n",
    "    \"Emp_ID\" : [\"us795\",\"wu508\",\"aj68s\",\"kd368\",\"rv769\",\"uv999\",\"vu001\",\"hx999\",\"aa001\",\"ol615\",\"np222\",\"jp877\",\"xr971\",\"lo099\",\"hi063\",\"nl685\",\"fo671\",\"ro677\",\"ey847\",\"va888\"],\n",
    "    \"Emp_Dept\": [\"all\",\"network\",\"vip\",\"meeting\",\"eucdept\",\"helpeingdept\",\"cleaning\",\"printerservice\",\"finance\",\"cgsa\",\"gcc\",\"global\",\"IT service\",\"Tax\",\"careteam\",\"manufacuring\",\"buyer\",\"legal\",\"abo\",\"payment team\"],\n",
    "    \"Emp_designation\": [\"executive\",\"manager\",\"junior manager\",\"hr\",\"helper\",\"cleaner\",\"printer\",\"laptop\",\"finance person\",\"calling\",\"IT head\",\"IT service owner\",\"Network Owner\",\"staff associate\",\"CWK\",\"Indirect Tax\",\"legal associate\",\"payment leader\",\"leader\",\"associate\"],\n",
    "    \"Emp_salary\": [23000,25000,20000,30000,80000,10000,20000,10000,35000,100000,560000,230000,75000,48000,68000,120000,50000,84000,10000,32000]\n",
    "}\n",
    "\n",
    "df = pd.DataFrame(a)\n",
    "print(df)"
   ]
  },
  {
   "cell_type": "code",
   "execution_count": 29,
   "id": "0d542af3-f382-49b6-914b-78f7c9a3a868",
   "metadata": {},
   "outputs": [
    {
     "data": {
      "text/html": [
       "<div>\n",
       "<style scoped>\n",
       "    .dataframe tbody tr th:only-of-type {\n",
       "        vertical-align: middle;\n",
       "    }\n",
       "\n",
       "    .dataframe tbody tr th {\n",
       "        vertical-align: top;\n",
       "    }\n",
       "\n",
       "    .dataframe thead th {\n",
       "        text-align: right;\n",
       "    }\n",
       "</style>\n",
       "<table border=\"1\" class=\"dataframe\">\n",
       "  <thead>\n",
       "    <tr style=\"text-align: right;\">\n",
       "      <th></th>\n",
       "      <th>Emp_name</th>\n",
       "      <th>Emp_age</th>\n",
       "      <th>EmpCity</th>\n",
       "      <th>Emp_ID</th>\n",
       "      <th>Emp_Dept</th>\n",
       "      <th>Emp_designation</th>\n",
       "      <th>Emp_salary</th>\n",
       "    </tr>\n",
       "  </thead>\n",
       "  <tbody>\n",
       "    <tr>\n",
       "      <th>15</th>\n",
       "      <td>neeraj</td>\n",
       "      <td>37</td>\n",
       "      <td>mumbai</td>\n",
       "      <td>nl685</td>\n",
       "      <td>manufacuring</td>\n",
       "      <td>Indirect Tax</td>\n",
       "      <td>1.2l</td>\n",
       "    </tr>\n",
       "    <tr>\n",
       "      <th>16</th>\n",
       "      <td>yogesh</td>\n",
       "      <td>54</td>\n",
       "      <td>chennai</td>\n",
       "      <td>fo671</td>\n",
       "      <td>buyer</td>\n",
       "      <td>legal associate</td>\n",
       "      <td>50k</td>\n",
       "    </tr>\n",
       "    <tr>\n",
       "      <th>17</th>\n",
       "      <td>gopal</td>\n",
       "      <td>34</td>\n",
       "      <td>jaipur</td>\n",
       "      <td>ro677</td>\n",
       "      <td>legal</td>\n",
       "      <td>payment leader</td>\n",
       "      <td>84k</td>\n",
       "    </tr>\n",
       "    <tr>\n",
       "      <th>18</th>\n",
       "      <td>sanket</td>\n",
       "      <td>43</td>\n",
       "      <td>mirzapur</td>\n",
       "      <td>ey847</td>\n",
       "      <td>abo</td>\n",
       "      <td>leader</td>\n",
       "      <td>10k</td>\n",
       "    </tr>\n",
       "    <tr>\n",
       "      <th>19</th>\n",
       "      <td>yash</td>\n",
       "      <td>41</td>\n",
       "      <td>wassepur</td>\n",
       "      <td>va888</td>\n",
       "      <td>payment team</td>\n",
       "      <td>associate</td>\n",
       "      <td>32k</td>\n",
       "    </tr>\n",
       "  </tbody>\n",
       "</table>\n",
       "</div>"
      ],
      "text/plain": [
       "   Emp_name Emp_age   EmpCity Emp_ID      Emp_Dept  Emp_designation Emp_salary\n",
       "15   neeraj      37    mumbai  nl685  manufacuring     Indirect Tax       1.2l\n",
       "16   yogesh      54   chennai  fo671         buyer  legal associate        50k\n",
       "17    gopal      34    jaipur  ro677         legal   payment leader        84k\n",
       "18   sanket      43  mirzapur  ey847           abo           leader        10k\n",
       "19     yash      41  wassepur  va888  payment team        associate        32k"
      ]
     },
     "execution_count": 29,
     "metadata": {},
     "output_type": "execute_result"
    }
   ],
   "source": [
    "df.tail()"
   ]
  },
  {
   "cell_type": "code",
   "execution_count": 31,
   "id": "555aba31-0f8e-473c-94c2-30f4eed0ed65",
   "metadata": {},
   "outputs": [
    {
     "name": "stdout",
     "output_type": "stream",
     "text": [
      "<class 'pandas.core.frame.DataFrame'>\n",
      "RangeIndex: 20 entries, 0 to 19\n",
      "Data columns (total 7 columns):\n",
      " #   Column           Non-Null Count  Dtype \n",
      "---  ------           --------------  ----- \n",
      " 0   Emp_name         20 non-null     object\n",
      " 1   Emp_age          20 non-null     object\n",
      " 2   EmpCity          20 non-null     object\n",
      " 3   Emp_ID           20 non-null     object\n",
      " 4   Emp_Dept         20 non-null     object\n",
      " 5   Emp_designation  20 non-null     object\n",
      " 6   Emp_salary       20 non-null     object\n",
      "dtypes: object(7)\n",
      "memory usage: 1.2+ KB\n"
     ]
    }
   ],
   "source": [
    "df.info()"
   ]
  },
  {
   "cell_type": "code",
   "execution_count": 17,
   "id": "a37fd10c-a48f-4129-a334-b93e0110ee35",
   "metadata": {},
   "outputs": [
    {
     "data": {
      "text/html": [
       "<div>\n",
       "<style scoped>\n",
       "    .dataframe tbody tr th:only-of-type {\n",
       "        vertical-align: middle;\n",
       "    }\n",
       "\n",
       "    .dataframe tbody tr th {\n",
       "        vertical-align: top;\n",
       "    }\n",
       "\n",
       "    .dataframe thead th {\n",
       "        text-align: right;\n",
       "    }\n",
       "</style>\n",
       "<table border=\"1\" class=\"dataframe\">\n",
       "  <thead>\n",
       "    <tr style=\"text-align: right;\">\n",
       "      <th></th>\n",
       "      <th>Emp_age</th>\n",
       "      <th>Emp_salary</th>\n",
       "    </tr>\n",
       "  </thead>\n",
       "  <tbody>\n",
       "    <tr>\n",
       "      <th>count</th>\n",
       "      <td>20.000000</td>\n",
       "      <td>20.000000</td>\n",
       "    </tr>\n",
       "    <tr>\n",
       "      <th>mean</th>\n",
       "      <td>34.700000</td>\n",
       "      <td>81500.000000</td>\n",
       "    </tr>\n",
       "    <tr>\n",
       "      <th>std</th>\n",
       "      <td>11.225441</td>\n",
       "      <td>123962.430641</td>\n",
       "    </tr>\n",
       "    <tr>\n",
       "      <th>min</th>\n",
       "      <td>21.000000</td>\n",
       "      <td>10000.000000</td>\n",
       "    </tr>\n",
       "    <tr>\n",
       "      <th>25%</th>\n",
       "      <td>24.750000</td>\n",
       "      <td>22250.000000</td>\n",
       "    </tr>\n",
       "    <tr>\n",
       "      <th>50%</th>\n",
       "      <td>34.500000</td>\n",
       "      <td>41500.000000</td>\n",
       "    </tr>\n",
       "    <tr>\n",
       "      <th>75%</th>\n",
       "      <td>43.500000</td>\n",
       "      <td>81000.000000</td>\n",
       "    </tr>\n",
       "    <tr>\n",
       "      <th>max</th>\n",
       "      <td>54.000000</td>\n",
       "      <td>560000.000000</td>\n",
       "    </tr>\n",
       "  </tbody>\n",
       "</table>\n",
       "</div>"
      ],
      "text/plain": [
       "         Emp_age     Emp_salary\n",
       "count  20.000000      20.000000\n",
       "mean   34.700000   81500.000000\n",
       "std    11.225441  123962.430641\n",
       "min    21.000000   10000.000000\n",
       "25%    24.750000   22250.000000\n",
       "50%    34.500000   41500.000000\n",
       "75%    43.500000   81000.000000\n",
       "max    54.000000  560000.000000"
      ]
     },
     "execution_count": 17,
     "metadata": {},
     "output_type": "execute_result"
    }
   ],
   "source": [
    "df.describe()"
   ]
  },
  {
   "cell_type": "code",
   "execution_count": 20,
   "id": "2950831f-57f1-495c-8dbf-0b55aef857d5",
   "metadata": {},
   "outputs": [
    {
     "data": {
      "text/plain": [
       "Emp_name           0\n",
       "Emp_age            0\n",
       "EmpCity            0\n",
       "Emp_ID             0\n",
       "Emp_Dept           0\n",
       "Emp_designation    0\n",
       "Emp_salary         0\n",
       "dtype: int64"
      ]
     },
     "execution_count": 20,
     "metadata": {},
     "output_type": "execute_result"
    }
   ],
   "source": [
    "df.isnull().sum()"
   ]
  },
  {
   "cell_type": "code",
   "execution_count": 14,
   "id": "389fc301-b95c-4d01-99c4-1be09d62460f",
   "metadata": {},
   "outputs": [
    {
     "data": {
      "text/plain": [
       "0"
      ]
     },
     "execution_count": 14,
     "metadata": {},
     "output_type": "execute_result"
    }
   ],
   "source": [
    "df.duplicated().sum()"
   ]
  },
  {
   "cell_type": "code",
   "execution_count": 19,
   "id": "5876fa65-636f-481a-9571-7ad0d0393217",
   "metadata": {},
   "outputs": [
    {
     "data": {
      "text/plain": [
       "0"
      ]
     },
     "execution_count": 19,
     "metadata": {},
     "output_type": "execute_result"
    }
   ],
   "source": [
    "df.duplicated('Emp_name').sum()"
   ]
  },
  {
   "cell_type": "code",
   "execution_count": 18,
   "id": "162db209-76ca-41ce-a4e9-ac7999c76e8d",
   "metadata": {},
   "outputs": [
    {
     "data": {
      "text/html": [
       "<div>\n",
       "<style scoped>\n",
       "    .dataframe tbody tr th:only-of-type {\n",
       "        vertical-align: middle;\n",
       "    }\n",
       "\n",
       "    .dataframe tbody tr th {\n",
       "        vertical-align: top;\n",
       "    }\n",
       "\n",
       "    .dataframe thead th {\n",
       "        text-align: right;\n",
       "    }\n",
       "</style>\n",
       "<table border=\"1\" class=\"dataframe\">\n",
       "  <thead>\n",
       "    <tr style=\"text-align: right;\">\n",
       "      <th></th>\n",
       "      <th>Emp_age</th>\n",
       "      <th>Emp_salary</th>\n",
       "    </tr>\n",
       "  </thead>\n",
       "  <tbody>\n",
       "    <tr>\n",
       "      <th>count</th>\n",
       "      <td>20.000000</td>\n",
       "      <td>20.000000</td>\n",
       "    </tr>\n",
       "    <tr>\n",
       "      <th>mean</th>\n",
       "      <td>34.700000</td>\n",
       "      <td>81500.000000</td>\n",
       "    </tr>\n",
       "    <tr>\n",
       "      <th>std</th>\n",
       "      <td>11.225441</td>\n",
       "      <td>123962.430641</td>\n",
       "    </tr>\n",
       "    <tr>\n",
       "      <th>min</th>\n",
       "      <td>21.000000</td>\n",
       "      <td>10000.000000</td>\n",
       "    </tr>\n",
       "    <tr>\n",
       "      <th>25%</th>\n",
       "      <td>24.750000</td>\n",
       "      <td>22250.000000</td>\n",
       "    </tr>\n",
       "    <tr>\n",
       "      <th>50%</th>\n",
       "      <td>34.500000</td>\n",
       "      <td>41500.000000</td>\n",
       "    </tr>\n",
       "    <tr>\n",
       "      <th>75%</th>\n",
       "      <td>43.500000</td>\n",
       "      <td>81000.000000</td>\n",
       "    </tr>\n",
       "    <tr>\n",
       "      <th>max</th>\n",
       "      <td>54.000000</td>\n",
       "      <td>560000.000000</td>\n",
       "    </tr>\n",
       "  </tbody>\n",
       "</table>\n",
       "</div>"
      ],
      "text/plain": [
       "         Emp_age     Emp_salary\n",
       "count  20.000000      20.000000\n",
       "mean   34.700000   81500.000000\n",
       "std    11.225441  123962.430641\n",
       "min    21.000000   10000.000000\n",
       "25%    24.750000   22250.000000\n",
       "50%    34.500000   41500.000000\n",
       "75%    43.500000   81000.000000\n",
       "max    54.000000  560000.000000"
      ]
     },
     "execution_count": 18,
     "metadata": {},
     "output_type": "execute_result"
    }
   ],
   "source": [
    "df.describe()"
   ]
  },
  {
   "cell_type": "code",
   "execution_count": 12,
   "id": "05ce00a9-ed9c-4a75-a232-a268c92133b9",
   "metadata": {},
   "outputs": [],
   "source": [
    "# described for Emp_salary   - 1. The above table presents salary information for 20 employees.\n",
    "# 2. The salary amounts are given in two formats: some in thousands (denoted by ‘k’) and others in lakhs (denoted by ‘l’).\n",
    "# 3. For example, a salary listed as 23k represents ₹23,000, while 5.6l represents ₹5,60,000.\n",
    "# 4. According to the data, there are three employees earning ₹10,000 each — making them the lowest-paid group. The highest-paid employee receives a salary of ₹5.6 lakh per month.\n",
    "# 5. The average (mean) salary calculated from the dataset is ₹77,150.\n"
   ]
  },
  {
   "cell_type": "code",
   "execution_count": 2,
   "id": "edca30b0-468a-4e2e-884d-14a38cc7d9d8",
   "metadata": {},
   "outputs": [
    {
     "data": {
      "text/html": [
       "<div>\n",
       "<style scoped>\n",
       "    .dataframe tbody tr th:only-of-type {\n",
       "        vertical-align: middle;\n",
       "    }\n",
       "\n",
       "    .dataframe tbody tr th {\n",
       "        vertical-align: top;\n",
       "    }\n",
       "\n",
       "    .dataframe thead th {\n",
       "        text-align: right;\n",
       "    }\n",
       "</style>\n",
       "<table border=\"1\" class=\"dataframe\">\n",
       "  <thead>\n",
       "    <tr style=\"text-align: right;\">\n",
       "      <th></th>\n",
       "      <th>Emp_name</th>\n",
       "      <th>Emp_age</th>\n",
       "      <th>EmpCity</th>\n",
       "      <th>Emp_ID</th>\n",
       "      <th>Emp_Dept</th>\n",
       "      <th>Emp_designation</th>\n",
       "      <th>Emp_salary</th>\n",
       "    </tr>\n",
       "  </thead>\n",
       "  <tbody>\n",
       "    <tr>\n",
       "      <th>0</th>\n",
       "      <td>tanmay</td>\n",
       "      <td>22</td>\n",
       "      <td>pune</td>\n",
       "      <td>us795</td>\n",
       "      <td>all</td>\n",
       "      <td>executive</td>\n",
       "      <td>23000</td>\n",
       "    </tr>\n",
       "    <tr>\n",
       "      <th>1</th>\n",
       "      <td>ajay</td>\n",
       "      <td>23</td>\n",
       "      <td>karnataka</td>\n",
       "      <td>wu508</td>\n",
       "      <td>network</td>\n",
       "      <td>manager</td>\n",
       "      <td>25000</td>\n",
       "    </tr>\n",
       "    <tr>\n",
       "      <th>2</th>\n",
       "      <td>kushal</td>\n",
       "      <td>35</td>\n",
       "      <td>goa</td>\n",
       "      <td>aj68s</td>\n",
       "      <td>vip</td>\n",
       "      <td>junior manager</td>\n",
       "      <td>20000</td>\n",
       "    </tr>\n",
       "    <tr>\n",
       "      <th>3</th>\n",
       "      <td>devesh</td>\n",
       "      <td>40</td>\n",
       "      <td>satara</td>\n",
       "      <td>kd368</td>\n",
       "      <td>meeting</td>\n",
       "      <td>hr</td>\n",
       "      <td>30000</td>\n",
       "    </tr>\n",
       "    <tr>\n",
       "      <th>4</th>\n",
       "      <td>kiran</td>\n",
       "      <td>25</td>\n",
       "      <td>sangli</td>\n",
       "      <td>rv769</td>\n",
       "      <td>eucdept</td>\n",
       "      <td>helper</td>\n",
       "      <td>80000</td>\n",
       "    </tr>\n",
       "  </tbody>\n",
       "</table>\n",
       "</div>"
      ],
      "text/plain": [
       "  Emp_name  Emp_age    EmpCity Emp_ID Emp_Dept Emp_designation  Emp_salary\n",
       "0   tanmay       22       pune  us795      all       executive       23000\n",
       "1     ajay       23  karnataka  wu508  network         manager       25000\n",
       "2   kushal       35        goa  aj68s      vip  junior manager       20000\n",
       "3   devesh       40     satara  kd368  meeting              hr       30000\n",
       "4    kiran       25     sangli  rv769  eucdept          helper       80000"
      ]
     },
     "execution_count": 2,
     "metadata": {},
     "output_type": "execute_result"
    }
   ],
   "source": [
    "df.head()"
   ]
  },
  {
   "cell_type": "code",
   "execution_count": 4,
   "id": "022aacff-af93-4475-bec3-021bd2af7adc",
   "metadata": {},
   "outputs": [
    {
     "data": {
      "text/plain": [
       "(20, 7)"
      ]
     },
     "execution_count": 4,
     "metadata": {},
     "output_type": "execute_result"
    }
   ],
   "source": [
    "df.shape"
   ]
  },
  {
   "cell_type": "code",
   "execution_count": 5,
   "id": "508eac3d-9d03-499e-877c-9641ff0cc241",
   "metadata": {},
   "outputs": [
    {
     "data": {
      "text/plain": [
       "Index(['Emp_name', 'Emp_age', 'EmpCity', 'Emp_ID', 'Emp_Dept',\n",
       "       'Emp_designation', 'Emp_salary'],\n",
       "      dtype='object')"
      ]
     },
     "execution_count": 5,
     "metadata": {},
     "output_type": "execute_result"
    }
   ],
   "source": [
    "df.columns"
   ]
  },
  {
   "cell_type": "code",
   "execution_count": 6,
   "id": "2923b6a1-31ef-4fd5-bbba-ff8df1fcf782",
   "metadata": {},
   "outputs": [
    {
     "data": {
      "text/plain": [
       "RangeIndex(start=0, stop=20, step=1)"
      ]
     },
     "execution_count": 6,
     "metadata": {},
     "output_type": "execute_result"
    }
   ],
   "source": [
    "df.index"
   ]
  },
  {
   "cell_type": "code",
   "execution_count": 7,
   "id": "047539d1-fffe-4a10-b816-273b39deb1e7",
   "metadata": {},
   "outputs": [
    {
     "data": {
      "text/plain": [
       "Emp_name           0\n",
       "Emp_age            0\n",
       "EmpCity            0\n",
       "Emp_ID             0\n",
       "Emp_Dept           0\n",
       "Emp_designation    0\n",
       "Emp_salary         0\n",
       "dtype: int64"
      ]
     },
     "execution_count": 7,
     "metadata": {},
     "output_type": "execute_result"
    }
   ],
   "source": [
    "df.isnull().sum()"
   ]
  },
  {
   "cell_type": "code",
   "execution_count": 8,
   "id": "fa663da0-be17-457a-ab90-f320cfcc91ec",
   "metadata": {},
   "outputs": [
    {
     "data": {
      "text/plain": [
       "<bound method Series.sum of 0     False\n",
       "1     False\n",
       "2     False\n",
       "3     False\n",
       "4     False\n",
       "5     False\n",
       "6     False\n",
       "7     False\n",
       "8     False\n",
       "9     False\n",
       "10    False\n",
       "11    False\n",
       "12    False\n",
       "13    False\n",
       "14    False\n",
       "15    False\n",
       "16    False\n",
       "17    False\n",
       "18    False\n",
       "19    False\n",
       "dtype: bool>"
      ]
     },
     "execution_count": 8,
     "metadata": {},
     "output_type": "execute_result"
    }
   ],
   "source": [
    "df.duplicated().sum"
   ]
  },
  {
   "cell_type": "code",
   "execution_count": 9,
   "id": "b35d28a4-b0e2-427e-a14a-19c56942224a",
   "metadata": {},
   "outputs": [
    {
     "data": {
      "text/plain": [
       "Emp_name           20\n",
       "Emp_age            16\n",
       "EmpCity            20\n",
       "Emp_ID             20\n",
       "Emp_Dept           20\n",
       "Emp_designation    20\n",
       "Emp_salary         17\n",
       "dtype: int64"
      ]
     },
     "execution_count": 9,
     "metadata": {},
     "output_type": "execute_result"
    }
   ],
   "source": [
    "df.nunique()"
   ]
  },
  {
   "cell_type": "code",
   "execution_count": 10,
   "id": "39ab7841-a5c5-4cc2-bcf5-416c22bf10b4",
   "metadata": {},
   "outputs": [
    {
     "data": {
      "text/plain": [
       "Emp_name    Emp_age  EmpCity    Emp_ID  Emp_Dept        Emp_designation   Emp_salary\n",
       "aishwarya   45       kerala     uv999   helpeingdept    cleaner           10000         1\n",
       "ajay        23       karnataka  wu508   network         manager           25000         1\n",
       "yash        41       wassepur   va888   payment team    associate         32000         1\n",
       "virendra    26       vizag      jp877   global          IT service owner  230000        1\n",
       "thushara    27       banglore   xr971   IT service      Network Owner     75000         1\n",
       "tanmay      22       pune       us795   all             executive         23000         1\n",
       "suraj       21       punjab     hx999   printerservice  laptop            10000         1\n",
       "sanket      43       mirzapur   ey847   abo             leader            10000         1\n",
       "rahul       24       manali     ol615   cgsa            calling           100000        1\n",
       "praneta     54       delhi      hi063   careteam        CWK               68000         1\n",
       "neeraj      37       mumbai     nl685   manufacuring    Indirect Tax      120000        1\n",
       "kushal      35       goa        aj68s   vip             junior manager    20000         1\n",
       "kishor      25       dehradun   np222   gcc             IT head           560000        1\n",
       "kiran       25       sangli     rv769   eucdept         helper            80000         1\n",
       "kanchan     50       kochi      vu001   cleaning        printer           20000         1\n",
       "gopal       34       jaipur     ro677   legal           payment leader    84000         1\n",
       "garima      23       kulu       aa001   finance         finance person    35000         1\n",
       "dhanashree  45       noida      lo099   Tax             staff associate   48000         1\n",
       "devesh      40       satara     kd368   meeting         hr                30000         1\n",
       "yogesh      54       chennai    fo671   buyer           legal associate   50000         1\n",
       "Name: count, dtype: int64"
      ]
     },
     "execution_count": 10,
     "metadata": {},
     "output_type": "execute_result"
    }
   ],
   "source": [
    "df.value_counts()"
   ]
  },
  {
   "cell_type": "code",
   "execution_count": 11,
   "id": "d0a06ce7-1bbf-4b56-8c83-68eebc38272d",
   "metadata": {},
   "outputs": [
    {
     "data": {
      "text/plain": [
       "False"
      ]
     },
     "execution_count": 11,
     "metadata": {},
     "output_type": "execute_result"
    }
   ],
   "source": [
    "df.empty"
   ]
  },
  {
   "cell_type": "code",
   "execution_count": 12,
   "id": "fb3d26e9-7e6b-4d1a-95f3-6b38c0e7e055",
   "metadata": {},
   "outputs": [
    {
     "data": {
      "text/html": [
       "<div>\n",
       "<style scoped>\n",
       "    .dataframe tbody tr th:only-of-type {\n",
       "        vertical-align: middle;\n",
       "    }\n",
       "\n",
       "    .dataframe tbody tr th {\n",
       "        vertical-align: top;\n",
       "    }\n",
       "\n",
       "    .dataframe thead th {\n",
       "        text-align: right;\n",
       "    }\n",
       "</style>\n",
       "<table border=\"1\" class=\"dataframe\">\n",
       "  <thead>\n",
       "    <tr style=\"text-align: right;\">\n",
       "      <th></th>\n",
       "      <th>Emp_name</th>\n",
       "      <th>Emp_age</th>\n",
       "      <th>EmpCity</th>\n",
       "      <th>Emp_ID</th>\n",
       "      <th>Emp_Dept</th>\n",
       "      <th>Emp_designation</th>\n",
       "      <th>Emp_salary</th>\n",
       "    </tr>\n",
       "  </thead>\n",
       "  <tbody>\n",
       "    <tr>\n",
       "      <th>6</th>\n",
       "      <td>kanchan</td>\n",
       "      <td>50</td>\n",
       "      <td>kochi</td>\n",
       "      <td>vu001</td>\n",
       "      <td>cleaning</td>\n",
       "      <td>printer</td>\n",
       "      <td>20000</td>\n",
       "    </tr>\n",
       "  </tbody>\n",
       "</table>\n",
       "</div>"
      ],
      "text/plain": [
       "  Emp_name  Emp_age EmpCity Emp_ID  Emp_Dept Emp_designation  Emp_salary\n",
       "6  kanchan       50   kochi  vu001  cleaning         printer       20000"
      ]
     },
     "execution_count": 12,
     "metadata": {},
     "output_type": "execute_result"
    }
   ],
   "source": [
    "df.sample()"
   ]
  },
  {
   "cell_type": "code",
   "execution_count": 14,
   "id": "a28d57e4-13e1-4b55-a1d1-04010567d683",
   "metadata": {},
   "outputs": [
    {
     "data": {
      "text/plain": [
       "0         tanmay\n",
       "1           ajay\n",
       "2         kushal\n",
       "3         devesh\n",
       "4          kiran\n",
       "5      aishwarya\n",
       "6        kanchan\n",
       "7          suraj\n",
       "8         garima\n",
       "9          rahul\n",
       "10        kishor\n",
       "11      virendra\n",
       "12      thushara\n",
       "13    dhanashree\n",
       "14       praneta\n",
       "15        neeraj\n",
       "16        yogesh\n",
       "17         gopal\n",
       "18        sanket\n",
       "19          yash\n",
       "Name: Emp_name, dtype: object"
      ]
     },
     "execution_count": 14,
     "metadata": {},
     "output_type": "execute_result"
    }
   ],
   "source": [
    "df['Emp_name']"
   ]
  },
  {
   "cell_type": "code",
   "execution_count": 18,
   "id": "166a369e-7ca0-4c37-a365-e307cf9626b0",
   "metadata": {},
   "outputs": [
    {
     "data": {
      "text/html": [
       "<div>\n",
       "<style scoped>\n",
       "    .dataframe tbody tr th:only-of-type {\n",
       "        vertical-align: middle;\n",
       "    }\n",
       "\n",
       "    .dataframe tbody tr th {\n",
       "        vertical-align: top;\n",
       "    }\n",
       "\n",
       "    .dataframe thead th {\n",
       "        text-align: right;\n",
       "    }\n",
       "</style>\n",
       "<table border=\"1\" class=\"dataframe\">\n",
       "  <thead>\n",
       "    <tr style=\"text-align: right;\">\n",
       "      <th></th>\n",
       "      <th>Emp_age</th>\n",
       "      <th>Emp_Dept</th>\n",
       "      <th>Emp_name</th>\n",
       "    </tr>\n",
       "  </thead>\n",
       "  <tbody>\n",
       "    <tr>\n",
       "      <th>0</th>\n",
       "      <td>22</td>\n",
       "      <td>all</td>\n",
       "      <td>tanmay</td>\n",
       "    </tr>\n",
       "    <tr>\n",
       "      <th>1</th>\n",
       "      <td>23</td>\n",
       "      <td>network</td>\n",
       "      <td>ajay</td>\n",
       "    </tr>\n",
       "    <tr>\n",
       "      <th>2</th>\n",
       "      <td>35</td>\n",
       "      <td>vip</td>\n",
       "      <td>kushal</td>\n",
       "    </tr>\n",
       "    <tr>\n",
       "      <th>3</th>\n",
       "      <td>40</td>\n",
       "      <td>meeting</td>\n",
       "      <td>devesh</td>\n",
       "    </tr>\n",
       "    <tr>\n",
       "      <th>4</th>\n",
       "      <td>25</td>\n",
       "      <td>eucdept</td>\n",
       "      <td>kiran</td>\n",
       "    </tr>\n",
       "    <tr>\n",
       "      <th>5</th>\n",
       "      <td>45</td>\n",
       "      <td>helpeingdept</td>\n",
       "      <td>aishwarya</td>\n",
       "    </tr>\n",
       "    <tr>\n",
       "      <th>6</th>\n",
       "      <td>50</td>\n",
       "      <td>cleaning</td>\n",
       "      <td>kanchan</td>\n",
       "    </tr>\n",
       "    <tr>\n",
       "      <th>7</th>\n",
       "      <td>21</td>\n",
       "      <td>printerservice</td>\n",
       "      <td>suraj</td>\n",
       "    </tr>\n",
       "    <tr>\n",
       "      <th>8</th>\n",
       "      <td>23</td>\n",
       "      <td>finance</td>\n",
       "      <td>garima</td>\n",
       "    </tr>\n",
       "    <tr>\n",
       "      <th>9</th>\n",
       "      <td>24</td>\n",
       "      <td>cgsa</td>\n",
       "      <td>rahul</td>\n",
       "    </tr>\n",
       "    <tr>\n",
       "      <th>10</th>\n",
       "      <td>25</td>\n",
       "      <td>gcc</td>\n",
       "      <td>kishor</td>\n",
       "    </tr>\n",
       "    <tr>\n",
       "      <th>11</th>\n",
       "      <td>26</td>\n",
       "      <td>global</td>\n",
       "      <td>virendra</td>\n",
       "    </tr>\n",
       "    <tr>\n",
       "      <th>12</th>\n",
       "      <td>27</td>\n",
       "      <td>IT service</td>\n",
       "      <td>thushara</td>\n",
       "    </tr>\n",
       "    <tr>\n",
       "      <th>13</th>\n",
       "      <td>45</td>\n",
       "      <td>Tax</td>\n",
       "      <td>dhanashree</td>\n",
       "    </tr>\n",
       "    <tr>\n",
       "      <th>14</th>\n",
       "      <td>54</td>\n",
       "      <td>careteam</td>\n",
       "      <td>praneta</td>\n",
       "    </tr>\n",
       "    <tr>\n",
       "      <th>15</th>\n",
       "      <td>37</td>\n",
       "      <td>manufacuring</td>\n",
       "      <td>neeraj</td>\n",
       "    </tr>\n",
       "    <tr>\n",
       "      <th>16</th>\n",
       "      <td>54</td>\n",
       "      <td>buyer</td>\n",
       "      <td>yogesh</td>\n",
       "    </tr>\n",
       "    <tr>\n",
       "      <th>17</th>\n",
       "      <td>34</td>\n",
       "      <td>legal</td>\n",
       "      <td>gopal</td>\n",
       "    </tr>\n",
       "    <tr>\n",
       "      <th>18</th>\n",
       "      <td>43</td>\n",
       "      <td>abo</td>\n",
       "      <td>sanket</td>\n",
       "    </tr>\n",
       "    <tr>\n",
       "      <th>19</th>\n",
       "      <td>41</td>\n",
       "      <td>payment team</td>\n",
       "      <td>yash</td>\n",
       "    </tr>\n",
       "  </tbody>\n",
       "</table>\n",
       "</div>"
      ],
      "text/plain": [
       "    Emp_age        Emp_Dept    Emp_name\n",
       "0        22             all      tanmay\n",
       "1        23         network        ajay\n",
       "2        35             vip      kushal\n",
       "3        40         meeting      devesh\n",
       "4        25         eucdept       kiran\n",
       "5        45    helpeingdept   aishwarya\n",
       "6        50        cleaning     kanchan\n",
       "7        21  printerservice       suraj\n",
       "8        23         finance      garima\n",
       "9        24            cgsa       rahul\n",
       "10       25             gcc      kishor\n",
       "11       26          global    virendra\n",
       "12       27      IT service    thushara\n",
       "13       45             Tax  dhanashree\n",
       "14       54        careteam     praneta\n",
       "15       37    manufacuring      neeraj\n",
       "16       54           buyer      yogesh\n",
       "17       34           legal       gopal\n",
       "18       43             abo      sanket\n",
       "19       41    payment team        yash"
      ]
     },
     "execution_count": 18,
     "metadata": {},
     "output_type": "execute_result"
    }
   ],
   "source": [
    "df[['Emp_age','Emp_Dept','Emp_name']]"
   ]
  },
  {
   "cell_type": "code",
   "execution_count": 17,
   "id": "d0bd25f6-adcf-46fa-b581-cd1dafa15cd4",
   "metadata": {},
   "outputs": [
    {
     "data": {
      "text/plain": [
       "Emp_name                    gopal\n",
       "Emp_age                        34\n",
       "EmpCity                    jaipur\n",
       "Emp_ID                      ro677\n",
       "Emp_Dept                    legal\n",
       "Emp_designation    payment leader\n",
       "Emp_salary                  84000\n",
       "Name: 17, dtype: object"
      ]
     },
     "execution_count": 17,
     "metadata": {},
     "output_type": "execute_result"
    }
   ],
   "source": [
    "df.iloc[17]"
   ]
  },
  {
   "cell_type": "code",
   "execution_count": 21,
   "id": "d403ed3f-bbc3-4eb4-8c0c-7ae93a2f111c",
   "metadata": {},
   "outputs": [
    {
     "name": "stdout",
     "output_type": "stream",
     "text": [
      "58750.0\n",
      "    Emp_name  Emp_age   EmpCity Emp_ID Emp_Dept   Emp_designation  Emp_salary\n",
      "10    kishor       25  dehradun  np222      gcc           IT head      560000\n",
      "11  virendra       26     vizag  jp877   global  IT service owner      230000\n"
     ]
    }
   ],
   "source": [
    "Q1_p = df['Emp_salary'].quantile(0.25)\n",
    "Q3_p = df['Emp_salary'].quantile(0.75)\n",
    "IQR = Q3_p - Q1_p\n",
    "\n",
    "lower_limit = Q1_p - 1.5 * IQR\n",
    "upper_limit = Q3_p + 1.5 * IQR\n",
    "print(IQR)\n",
    "\n",
    "p_outlier = df[(df['Emp_salary'] < lower_limit) | (df['Emp_salary'] > upper_limit)]\n",
    "print(p_outlier)"
   ]
  },
  {
   "cell_type": "code",
   "execution_count": 23,
   "id": "08931cb3-3d59-4b35-81c0-bd82d7883c72",
   "metadata": {},
   "outputs": [
    {
     "data": {
      "text/html": [
       "<div>\n",
       "<style scoped>\n",
       "    .dataframe tbody tr th:only-of-type {\n",
       "        vertical-align: middle;\n",
       "    }\n",
       "\n",
       "    .dataframe tbody tr th {\n",
       "        vertical-align: top;\n",
       "    }\n",
       "\n",
       "    .dataframe thead th {\n",
       "        text-align: right;\n",
       "    }\n",
       "</style>\n",
       "<table border=\"1\" class=\"dataframe\">\n",
       "  <thead>\n",
       "    <tr style=\"text-align: right;\">\n",
       "      <th></th>\n",
       "      <th>Emp_name</th>\n",
       "      <th>Emp_age</th>\n",
       "      <th>EmpCity</th>\n",
       "      <th>Emp_ID</th>\n",
       "      <th>Emp_Dept</th>\n",
       "      <th>Emp_designation</th>\n",
       "      <th>Emp_salary</th>\n",
       "    </tr>\n",
       "  </thead>\n",
       "  <tbody>\n",
       "    <tr>\n",
       "      <th>8</th>\n",
       "      <td>garima</td>\n",
       "      <td>23</td>\n",
       "      <td>kulu</td>\n",
       "      <td>aa001</td>\n",
       "      <td>finance</td>\n",
       "      <td>finance person</td>\n",
       "      <td>35000</td>\n",
       "    </tr>\n",
       "    <tr>\n",
       "      <th>2</th>\n",
       "      <td>kushal</td>\n",
       "      <td>35</td>\n",
       "      <td>goa</td>\n",
       "      <td>aj68s</td>\n",
       "      <td>vip</td>\n",
       "      <td>junior manager</td>\n",
       "      <td>20000</td>\n",
       "    </tr>\n",
       "    <tr>\n",
       "      <th>18</th>\n",
       "      <td>sanket</td>\n",
       "      <td>43</td>\n",
       "      <td>mirzapur</td>\n",
       "      <td>ey847</td>\n",
       "      <td>abo</td>\n",
       "      <td>leader</td>\n",
       "      <td>10000</td>\n",
       "    </tr>\n",
       "    <tr>\n",
       "      <th>16</th>\n",
       "      <td>yogesh</td>\n",
       "      <td>54</td>\n",
       "      <td>chennai</td>\n",
       "      <td>fo671</td>\n",
       "      <td>buyer</td>\n",
       "      <td>legal associate</td>\n",
       "      <td>50000</td>\n",
       "    </tr>\n",
       "    <tr>\n",
       "      <th>14</th>\n",
       "      <td>praneta</td>\n",
       "      <td>54</td>\n",
       "      <td>delhi</td>\n",
       "      <td>hi063</td>\n",
       "      <td>careteam</td>\n",
       "      <td>CWK</td>\n",
       "      <td>68000</td>\n",
       "    </tr>\n",
       "    <tr>\n",
       "      <th>7</th>\n",
       "      <td>suraj</td>\n",
       "      <td>21</td>\n",
       "      <td>punjab</td>\n",
       "      <td>hx999</td>\n",
       "      <td>printerservice</td>\n",
       "      <td>laptop</td>\n",
       "      <td>10000</td>\n",
       "    </tr>\n",
       "    <tr>\n",
       "      <th>11</th>\n",
       "      <td>virendra</td>\n",
       "      <td>26</td>\n",
       "      <td>vizag</td>\n",
       "      <td>jp877</td>\n",
       "      <td>global</td>\n",
       "      <td>IT service owner</td>\n",
       "      <td>230000</td>\n",
       "    </tr>\n",
       "    <tr>\n",
       "      <th>3</th>\n",
       "      <td>devesh</td>\n",
       "      <td>40</td>\n",
       "      <td>satara</td>\n",
       "      <td>kd368</td>\n",
       "      <td>meeting</td>\n",
       "      <td>hr</td>\n",
       "      <td>30000</td>\n",
       "    </tr>\n",
       "    <tr>\n",
       "      <th>13</th>\n",
       "      <td>dhanashree</td>\n",
       "      <td>45</td>\n",
       "      <td>noida</td>\n",
       "      <td>lo099</td>\n",
       "      <td>Tax</td>\n",
       "      <td>staff associate</td>\n",
       "      <td>48000</td>\n",
       "    </tr>\n",
       "    <tr>\n",
       "      <th>15</th>\n",
       "      <td>neeraj</td>\n",
       "      <td>37</td>\n",
       "      <td>mumbai</td>\n",
       "      <td>nl685</td>\n",
       "      <td>manufacuring</td>\n",
       "      <td>Indirect Tax</td>\n",
       "      <td>120000</td>\n",
       "    </tr>\n",
       "    <tr>\n",
       "      <th>10</th>\n",
       "      <td>kishor</td>\n",
       "      <td>25</td>\n",
       "      <td>dehradun</td>\n",
       "      <td>np222</td>\n",
       "      <td>gcc</td>\n",
       "      <td>IT head</td>\n",
       "      <td>560000</td>\n",
       "    </tr>\n",
       "    <tr>\n",
       "      <th>9</th>\n",
       "      <td>rahul</td>\n",
       "      <td>24</td>\n",
       "      <td>manali</td>\n",
       "      <td>ol615</td>\n",
       "      <td>cgsa</td>\n",
       "      <td>calling</td>\n",
       "      <td>100000</td>\n",
       "    </tr>\n",
       "    <tr>\n",
       "      <th>17</th>\n",
       "      <td>gopal</td>\n",
       "      <td>34</td>\n",
       "      <td>jaipur</td>\n",
       "      <td>ro677</td>\n",
       "      <td>legal</td>\n",
       "      <td>payment leader</td>\n",
       "      <td>84000</td>\n",
       "    </tr>\n",
       "    <tr>\n",
       "      <th>4</th>\n",
       "      <td>kiran</td>\n",
       "      <td>25</td>\n",
       "      <td>sangli</td>\n",
       "      <td>rv769</td>\n",
       "      <td>eucdept</td>\n",
       "      <td>helper</td>\n",
       "      <td>80000</td>\n",
       "    </tr>\n",
       "    <tr>\n",
       "      <th>0</th>\n",
       "      <td>tanmay</td>\n",
       "      <td>22</td>\n",
       "      <td>pune</td>\n",
       "      <td>us795</td>\n",
       "      <td>all</td>\n",
       "      <td>executive</td>\n",
       "      <td>23000</td>\n",
       "    </tr>\n",
       "    <tr>\n",
       "      <th>5</th>\n",
       "      <td>aishwarya</td>\n",
       "      <td>45</td>\n",
       "      <td>kerala</td>\n",
       "      <td>uv999</td>\n",
       "      <td>helpeingdept</td>\n",
       "      <td>cleaner</td>\n",
       "      <td>10000</td>\n",
       "    </tr>\n",
       "    <tr>\n",
       "      <th>19</th>\n",
       "      <td>yash</td>\n",
       "      <td>41</td>\n",
       "      <td>wassepur</td>\n",
       "      <td>va888</td>\n",
       "      <td>payment team</td>\n",
       "      <td>associate</td>\n",
       "      <td>32000</td>\n",
       "    </tr>\n",
       "    <tr>\n",
       "      <th>6</th>\n",
       "      <td>kanchan</td>\n",
       "      <td>50</td>\n",
       "      <td>kochi</td>\n",
       "      <td>vu001</td>\n",
       "      <td>cleaning</td>\n",
       "      <td>printer</td>\n",
       "      <td>20000</td>\n",
       "    </tr>\n",
       "    <tr>\n",
       "      <th>1</th>\n",
       "      <td>ajay</td>\n",
       "      <td>23</td>\n",
       "      <td>karnataka</td>\n",
       "      <td>wu508</td>\n",
       "      <td>network</td>\n",
       "      <td>manager</td>\n",
       "      <td>25000</td>\n",
       "    </tr>\n",
       "    <tr>\n",
       "      <th>12</th>\n",
       "      <td>thushara</td>\n",
       "      <td>27</td>\n",
       "      <td>banglore</td>\n",
       "      <td>xr971</td>\n",
       "      <td>IT service</td>\n",
       "      <td>Network Owner</td>\n",
       "      <td>75000</td>\n",
       "    </tr>\n",
       "  </tbody>\n",
       "</table>\n",
       "</div>"
      ],
      "text/plain": [
       "      Emp_name  Emp_age    EmpCity Emp_ID        Emp_Dept   Emp_designation  \\\n",
       "8       garima       23       kulu  aa001         finance    finance person   \n",
       "2       kushal       35        goa  aj68s             vip    junior manager   \n",
       "18      sanket       43   mirzapur  ey847             abo            leader   \n",
       "16      yogesh       54    chennai  fo671           buyer   legal associate   \n",
       "14     praneta       54      delhi  hi063        careteam               CWK   \n",
       "7        suraj       21     punjab  hx999  printerservice            laptop   \n",
       "11    virendra       26      vizag  jp877          global  IT service owner   \n",
       "3       devesh       40     satara  kd368         meeting                hr   \n",
       "13  dhanashree       45      noida  lo099             Tax   staff associate   \n",
       "15      neeraj       37     mumbai  nl685    manufacuring      Indirect Tax   \n",
       "10      kishor       25   dehradun  np222             gcc           IT head   \n",
       "9        rahul       24     manali  ol615            cgsa           calling   \n",
       "17       gopal       34     jaipur  ro677           legal    payment leader   \n",
       "4        kiran       25     sangli  rv769         eucdept            helper   \n",
       "0       tanmay       22       pune  us795             all         executive   \n",
       "5    aishwarya       45     kerala  uv999    helpeingdept           cleaner   \n",
       "19        yash       41   wassepur  va888    payment team         associate   \n",
       "6      kanchan       50      kochi  vu001        cleaning           printer   \n",
       "1         ajay       23  karnataka  wu508         network           manager   \n",
       "12    thushara       27   banglore  xr971      IT service     Network Owner   \n",
       "\n",
       "    Emp_salary  \n",
       "8        35000  \n",
       "2        20000  \n",
       "18       10000  \n",
       "16       50000  \n",
       "14       68000  \n",
       "7        10000  \n",
       "11      230000  \n",
       "3        30000  \n",
       "13       48000  \n",
       "15      120000  \n",
       "10      560000  \n",
       "9       100000  \n",
       "17       84000  \n",
       "4        80000  \n",
       "0        23000  \n",
       "5        10000  \n",
       "19       32000  \n",
       "6        20000  \n",
       "1        25000  \n",
       "12       75000  "
      ]
     },
     "execution_count": 23,
     "metadata": {},
     "output_type": "execute_result"
    }
   ],
   "source": [
    "df.sort_values(by = \"Emp_ID\", ascending= True)"
   ]
  },
  {
   "cell_type": "code",
   "execution_count": 24,
   "id": "970db97b-0f8e-43d5-a4e4-8a3d172d33c8",
   "metadata": {},
   "outputs": [
    {
     "data": {
      "text/plain": [
       "0     12.0\n",
       "1      4.0\n",
       "2      8.0\n",
       "3      9.0\n",
       "4     10.0\n",
       "5     13.0\n",
       "6      2.0\n",
       "7      7.0\n",
       "8     11.0\n",
       "9     14.0\n",
       "10    19.0\n",
       "11    18.0\n",
       "12    16.0\n",
       "13     1.0\n",
       "14    20.0\n",
       "15    17.0\n",
       "16     5.0\n",
       "17     3.0\n",
       "18     6.0\n",
       "19    15.0\n",
       "Name: ranking_price, dtype: float64"
      ]
     },
     "execution_count": 24,
     "metadata": {},
     "output_type": "execute_result"
    }
   ],
   "source": [
    "df[\"ranking_price\"] = df['Emp_designation'].rank(ascending = False)\n",
    "df[\"ranking_price\"]"
   ]
  },
  {
   "cell_type": "code",
   "execution_count": 33,
   "id": "e7d2ae93-2578-40fb-967b-941f71b1d1c5",
   "metadata": {},
   "outputs": [
    {
     "data": {
      "text/plain": [
       "'No Emp_Depts Column Available'"
      ]
     },
     "execution_count": 33,
     "metadata": {},
     "output_type": "execute_result"
    }
   ],
   "source": [
    "df.get('Emp_Depts', default = \"No Emp_Depts Column Available\")"
   ]
  },
  {
   "cell_type": "code",
   "execution_count": 34,
   "id": "e5fd5281-23a5-4aa1-9355-aa88a099203a",
   "metadata": {},
   "outputs": [
    {
     "data": {
      "text/plain": [
       "Emp_name\n",
       "aishwarya      10000\n",
       "ajay           25000\n",
       "devesh         30000\n",
       "dhanashree     48000\n",
       "garima         35000\n",
       "gopal          84000\n",
       "kanchan        20000\n",
       "kiran          80000\n",
       "kishor        560000\n",
       "kushal         20000\n",
       "neeraj        120000\n",
       "praneta        68000\n",
       "rahul         100000\n",
       "sanket         10000\n",
       "suraj          10000\n",
       "tanmay         23000\n",
       "thushara       75000\n",
       "virendra      230000\n",
       "yash           32000\n",
       "yogesh         50000\n",
       "Name: Emp_salary, dtype: int64"
      ]
     },
     "execution_count": 34,
     "metadata": {},
     "output_type": "execute_result"
    }
   ],
   "source": [
    "df.groupby(\"Emp_name\") [\"Emp_salary\"].min()"
   ]
  },
  {
   "cell_type": "code",
   "execution_count": null,
   "id": "6d7b2517-7a8d-4ccb-b5e9-e720ed535c24",
   "metadata": {},
   "outputs": [],
   "source": []
  }
 ],
 "metadata": {
  "kernelspec": {
   "display_name": "Python 3 (ipykernel)",
   "language": "python",
   "name": "python3"
  },
  "language_info": {
   "codemirror_mode": {
    "name": "ipython",
    "version": 3
   },
   "file_extension": ".py",
   "mimetype": "text/x-python",
   "name": "python",
   "nbconvert_exporter": "python",
   "pygments_lexer": "ipython3",
   "version": "3.12.7"
  }
 },
 "nbformat": 4,
 "nbformat_minor": 5
}
