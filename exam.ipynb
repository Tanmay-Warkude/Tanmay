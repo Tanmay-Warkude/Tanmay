{
 "cells": [
  {
   "cell_type": "code",
   "execution_count": 7,
   "id": "149bfc3e-033a-427c-933f-947df1f698a2",
   "metadata": {},
   "outputs": [
    {
     "name": "stdout",
     "output_type": "stream",
     "text": [
      "{'kalyani', 'roshni', 'tanmay'}\n",
      "['roshni', 'kalyani', 'tanmay', 'tanmay']\n"
     ]
    }
   ],
   "source": [
    "#Write a program that takes a list of student names and performs the following:\n",
    "# Removes duplicates\n",
    "# Sorts by last character of each name\n",
    "# Reverses the list\n",
    "\n",
    "list_of_student = [\"tanmay\",\"tanmay\", \"kalyani\",\"roshni\"]\n",
    "print(set(list_of_student))\n",
    "\n",
    "print(list_of_student[::-1])"
   ]
  },
  {
   "cell_type": "code",
   "execution_count": 16,
   "id": "b1b9a24c-4664-4e08-abb8-d0f6c6272f79",
   "metadata": {},
   "outputs": [
    {
     "name": "stdout",
     "output_type": "stream",
     "text": [
      "15\n"
     ]
    }
   ],
   "source": [
    "#Write a function unique_digit_sum(n) that returns the sum of all unique digits in the number n.Example: n = 122334 -> sum = 1+2+3+4 = 10\n",
    "\n",
    "n = [1,2,2,3,4,5]\n",
    "unique_num = set(n)\n",
    "total = sum(unique_num)\n",
    "print(total)"
   ]
  },
  {
   "cell_type": "code",
   "execution_count": 23,
   "id": "9120219a-d4fe-4414-9a01-df24e36bd6ed",
   "metadata": {},
   "outputs": [
    {
     "name": "stdout",
     "output_type": "stream",
     "text": [
      "TANMAY KALYANI ROSHNI\n"
     ]
    }
   ],
   "source": [
    "#Define a function swap_case_words(s) that swaps the case of every character in every word in asentence and returns a list of transformed words.\n",
    "a = \"tanmay kalyani roshni\"\n",
    "print(a.swapcase())"
   ]
  },
  {
   "cell_type": "code",
   "execution_count": 36,
   "id": "d38eda37-5594-4078-a22a-9f283260bad1",
   "metadata": {},
   "outputs": [
    {
     "name": "stdout",
     "output_type": "stream",
     "text": [
      "C\n",
      "None\n"
     ]
    }
   ],
   "source": [
    "#Given a tuple of (student_name, marks), write a function that returns a tuple of (name, grade) \n",
    "#based on:- 90 and above = A, 80-89 = B, 70-79 = C, below 70 = F\n",
    "\n",
    "def data(student_data):\n",
    "    name, marks = student_data\n",
    "if marks >= 90:\n",
    "    print(\"A\")\n",
    "elif marks >= 80:\n",
    "    print(\"B\")\n",
    "elif marks >= 70:\n",
    "    print(\"C\")\n",
    "else:\n",
    "    print(\"F\")\n",
    "\n",
    "student = (\"tanmay\",50)\n",
    "print(data(student))"
   ]
  },
  {
   "cell_type": "code",
   "execution_count": 1,
   "id": "af5e3446-fa60-4c3d-ab00-3f3197559cab",
   "metadata": {},
   "outputs": [
    {
     "name": "stdout",
     "output_type": "stream",
     "text": [
      "[52.5, 94.5, 73.5]\n"
     ]
    }
   ],
   "source": [
    "#Given a list of tuples with (name, score), write a lambda + map() expression to extract all scores and increase each by 5%\n",
    "\n",
    "my_list = [(\"tanmay\",50),(\"roshni\",90),(\"kalyani\",70)]\n",
    "list_update = list(map(lambda a: a[1] * 1.05, my_list))\n",
    "print(list_update)"
   ]
  },
  {
   "cell_type": "code",
   "execution_count": null,
   "id": "200f32fd-b53f-4614-b30e-ee6bba9945b8",
   "metadata": {},
   "outputs": [],
   "source": [
    "#Write a function unique_digit_sum(n) that returns the sum of all unique digits in the number n. Example: n = 122334 -> sum = 1+2+3+4 = 10\n",
    "\n",
    "num = [1,2,3,4,5,6]\n",
    "sum_of_num = sum(num)\n",
    "print(sum_of_num)"
   ]
  },
  {
   "cell_type": "code",
   "execution_count": null,
   "id": "fe73a853-7762-48c0-8f17-49d2dffcc4a1",
   "metadata": {},
   "outputs": [],
   "source": [
    "#Create a function remove_consecutive_duplicates(lst) that removes only consecutive duplicatesfrom a list while keeping order\n",
    "lst = [1,2,2,3,3,4,5,6,6]\n",
    "dup = list(set(lst))\n",
    "print(dup)"
   ]
  },
  {
   "cell_type": "code",
   "execution_count": 2,
   "id": "727efa6e-9d31-4b7d-97b2-720f9fd106a8",
   "metadata": {},
   "outputs": [
    {
     "name": "stdout",
     "output_type": "stream",
     "text": [
      "['apple', 'orange']\n"
     ]
    }
   ],
   "source": [
    "#Define a function track_inventory(products) that takes a dictionary with product \n",
    "#names as keys and their stock as values. Return a list of products that need restocking (stock < 10).\n",
    "\n",
    "inventory = {\"apple\": 5, \"banana\": 12, \"orange\": 8, \"grape\": 15}\n",
    "print([p for p in inventory if inventory[p] < 10])"
   ]
  },
  {
   "cell_type": "code",
   "execution_count": 4,
   "id": "3223627d-0748-4b14-a633-f50bb26d1939",
   "metadata": {},
   "outputs": [
    {
     "name": "stdout",
     "output_type": "stream",
     "text": [
      "105\n"
     ]
    }
   ],
   "source": [
    "#Use reduce() to calculate the product of all odd numbers in a list.\n",
    "\n",
    "num = [1,2,3,4,5,6,7,8]\n",
    "from functools import reduce \n",
    "def product_of_list(num):\n",
    "    odd_number = filter(lambda x: x % 2, num)\n",
    "    return reduce(lambda x, y: x * y, odd_number)\n",
    "print(product_of_list(num))"
   ]
  },
  {
   "cell_type": "code",
   "execution_count": 8,
   "id": "b39927ed-6bea-4b0b-93d4-732758681361",
   "metadata": {},
   "outputs": [
    {
     "name": "stdout",
     "output_type": "stream",
     "text": [
      "[4, 3, 2, 1]\n"
     ]
    }
   ],
   "source": [
    "#Given two lists, find all common elements using sets and print them in sorted descending order.\n",
    "list1 = [1,2,3,4]\n",
    "list2 = [1,2,3,4,5,6,7,7]\n",
    "\n",
    "common_elements = sorted(set(list1) & set(list2), reverse=True)\n",
    "print(common_elements)"
   ]
  },
  {
   "cell_type": "code",
   "execution_count": 9,
   "id": "3c747ea6-86ab-4faa-960b-702397832131",
   "metadata": {},
   "outputs": [
    {
     "name": "stdin",
     "output_type": "stream",
     "text": [
      "Enter a sentence:  currently unavailable\n"
     ]
    },
    {
     "name": "stdout",
     "output_type": "stream",
     "text": [
      "{'n', 'l', 'e', 'r', 'a', 'u'}\n"
     ]
    }
   ],
   "source": [
    "#Take a sentence input and return a set of all unique words that appear more than once\n",
    "sentence = input(\"Enter a sentence: \")\n",
    "sentence.lower().split()\n",
    "print({word for word in sentence if sentence.count(word) > 1})"
   ]
  },
  {
   "cell_type": "code",
   "execution_count": 10,
   "id": "b70d8325-dfbc-41d5-a9ee-2f34fd1ca5f8",
   "metadata": {},
   "outputs": [
    {
     "name": "stdout",
     "output_type": "stream",
     "text": [
      "[1, 2, 3, 4, 5, 6, 7, 8, 9]\n"
     ]
    }
   ],
   "source": [
    "#Create a function flatten(nested_list) that takes a list of lists and returns a flat list. Do not use itertools.chain\n",
    "lst = [[1,2,3], [4,5,6],[7,8,9]]\n",
    "print([item for sublist in lst for item in sublist])"
   ]
  },
  {
   "cell_type": "code",
   "execution_count": null,
   "id": "1708cd55-7d64-4f7e-9b18-f4a8b97acd0e",
   "metadata": {},
   "outputs": [],
   "source": [
    "#Write a program that takes a list of strings and returns the number of unique vowels used across all words (use set union).\n",
    "\n",
    "sentence = int(input(\"enter your sentence: \"))\n",
    "vowels = (a,e,i,o,u)\n"
   ]
  },
  {
   "cell_type": "code",
   "execution_count": null,
   "id": "c25fd6e6-5bf6-4114-b3e0-47f2e4fdb481",
   "metadata": {},
   "outputs": [],
   "source": []
  }
 ],
 "metadata": {
  "kernelspec": {
   "display_name": "Python 3 (ipykernel)",
   "language": "python",
   "name": "python3"
  },
  "language_info": {
   "codemirror_mode": {
    "name": "ipython",
    "version": 3
   },
   "file_extension": ".py",
   "mimetype": "text/x-python",
   "name": "python",
   "nbconvert_exporter": "python",
   "pygments_lexer": "ipython3",
   "version": "3.12.7"
  }
 },
 "nbformat": 4,
 "nbformat_minor": 5
}
