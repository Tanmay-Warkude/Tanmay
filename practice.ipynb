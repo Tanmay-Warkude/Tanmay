{
 "cells": [
  {
   "cell_type": "code",
   "execution_count": 4,
   "id": "3d82f150-51f3-4eab-915c-649924ba294c",
   "metadata": {},
   "outputs": [
    {
     "name": "stdout",
     "output_type": "stream",
     "text": [
      "15\n"
     ]
    }
   ],
   "source": [
    "# 1.Write a function that accepts *args and returns their sum.\n",
    "\n",
    "def sum_of_num(*args):\n",
    "    return sum(args)\n",
    "print(sum_of_num(1,2,3,4,5))"
   ]
  },
  {
   "cell_type": "code",
   "execution_count": 5,
   "id": "75a87b52-acd0-4d80-9c14-16555a4b5218",
   "metadata": {},
   "outputs": [
    {
     "data": {
      "text/plain": [
       "'nohtyp'"
      ]
     },
     "execution_count": 5,
     "metadata": {},
     "output_type": "execute_result"
    }
   ],
   "source": [
    "# 2.Write a function to reverse a string\n",
    "\n",
    "def reverse_str(a):\n",
    "    return(a[::-1])\n",
    "reverse_str(\"python\")"
   ]
  },
  {
   "cell_type": "code",
   "execution_count": 8,
   "id": "660fbc4b-5c13-4709-a1c6-a81a92b9c82d",
   "metadata": {},
   "outputs": [
    {
     "name": "stdout",
     "output_type": "stream",
     "text": [
      "its palindrome\n"
     ]
    }
   ],
   "source": [
    "# 3 Write a function to check if a string is a palindrome.\n",
    "\n",
    "def palin(a):\n",
    "    if a == a [::-1]:\n",
    "        print(\"its palindrome\")\n",
    "    else:\n",
    "        print(\"its not palindrome\")\n",
    "palin(\"madam\")"
   ]
  },
  {
   "cell_type": "code",
   "execution_count": 7,
   "id": "2c3be46a-f54a-4b9e-b262-0c827e398047",
   "metadata": {},
   "outputs": [
    {
     "data": {
      "text/plain": [
       "8"
      ]
     },
     "execution_count": 7,
     "metadata": {},
     "output_type": "execute_result"
    }
   ],
   "source": [
    "# 4. Write a function to count vowels in a string.\n",
    "def checkvowel(a):\n",
    "    string = a.lower()\n",
    "    count = 0\n",
    "    for char in string:\n",
    "        if char in \"aeiou\":\n",
    "            count += 1\n",
    "    return count\n",
    "checkvowel(\"nature is beutiful\")"
   ]
  },
  {
   "cell_type": "code",
   "execution_count": 21,
   "id": "729db252-81d6-4c2e-8cdc-5aff9ef151a4",
   "metadata": {},
   "outputs": [
    {
     "name": "stdout",
     "output_type": "stream",
     "text": [
      "number is: 39\n"
     ]
    }
   ],
   "source": [
    "# 5.Write a function that returns the larger of two numbers\n",
    "def large_no(a,b):\n",
    "    a = int(a)\n",
    "    b = int(b)\n",
    "    if a >= b:\n",
    "        print(\"number is:\",a)\n",
    "    else:\n",
    "        print(\"number is:\",b)\n",
    "large_no(\"34\",\"39\")"
   ]
  },
  {
   "cell_type": "code",
   "execution_count": 27,
   "id": "05c8c060-ba44-4684-96d9-6c752466a6cc",
   "metadata": {},
   "outputs": [
    {
     "ename": "RecursionError",
     "evalue": "maximum recursion depth exceeded",
     "output_type": "error",
     "traceback": [
      "\u001b[1;31m---------------------------------------------------------------------------\u001b[0m",
      "\u001b[1;31mRecursionError\u001b[0m                            Traceback (most recent call last)",
      "Cell \u001b[1;32mIn[27], line 8\u001b[0m\n\u001b[0;32m      6\u001b[0m     \u001b[38;5;28;01melse\u001b[39;00m:\n\u001b[0;32m      7\u001b[0m         \u001b[38;5;28;01mreturn\u001b[39;00m \u001b[38;5;241m1\u001b[39m \u001b[38;5;241m+\u001b[39m count_int(a \u001b[38;5;241m%\u001b[39m \u001b[38;5;241m10\u001b[39m)\n\u001b[1;32m----> 8\u001b[0m \u001b[38;5;28mprint\u001b[39m(count_int(\u001b[38;5;241m12345\u001b[39m))\n",
      "Cell \u001b[1;32mIn[27], line 7\u001b[0m, in \u001b[0;36mcount_int\u001b[1;34m(a)\u001b[0m\n\u001b[0;32m      5\u001b[0m     \u001b[38;5;28;01mreturn\u001b[39;00m \u001b[38;5;241m0\u001b[39m\n\u001b[0;32m      6\u001b[0m \u001b[38;5;28;01melse\u001b[39;00m:\n\u001b[1;32m----> 7\u001b[0m     \u001b[38;5;28;01mreturn\u001b[39;00m \u001b[38;5;241m1\u001b[39m \u001b[38;5;241m+\u001b[39m count_int(a \u001b[38;5;241m%\u001b[39m \u001b[38;5;241m10\u001b[39m)\n",
      "Cell \u001b[1;32mIn[27], line 7\u001b[0m, in \u001b[0;36mcount_int\u001b[1;34m(a)\u001b[0m\n\u001b[0;32m      5\u001b[0m     \u001b[38;5;28;01mreturn\u001b[39;00m \u001b[38;5;241m0\u001b[39m\n\u001b[0;32m      6\u001b[0m \u001b[38;5;28;01melse\u001b[39;00m:\n\u001b[1;32m----> 7\u001b[0m     \u001b[38;5;28;01mreturn\u001b[39;00m \u001b[38;5;241m1\u001b[39m \u001b[38;5;241m+\u001b[39m count_int(a \u001b[38;5;241m%\u001b[39m \u001b[38;5;241m10\u001b[39m)\n",
      "    \u001b[1;31m[... skipping similar frames: count_int at line 7 (2974 times)]\u001b[0m\n",
      "Cell \u001b[1;32mIn[27], line 7\u001b[0m, in \u001b[0;36mcount_int\u001b[1;34m(a)\u001b[0m\n\u001b[0;32m      5\u001b[0m     \u001b[38;5;28;01mreturn\u001b[39;00m \u001b[38;5;241m0\u001b[39m\n\u001b[0;32m      6\u001b[0m \u001b[38;5;28;01melse\u001b[39;00m:\n\u001b[1;32m----> 7\u001b[0m     \u001b[38;5;28;01mreturn\u001b[39;00m \u001b[38;5;241m1\u001b[39m \u001b[38;5;241m+\u001b[39m count_int(a \u001b[38;5;241m%\u001b[39m \u001b[38;5;241m10\u001b[39m)\n",
      "\u001b[1;31mRecursionError\u001b[0m: maximum recursion depth exceeded"
     ]
    }
   ],
   "source": [
    "#write a recursive function to count the number of digits in an integer\n",
    "\n",
    "def count_int(a):\n",
    "    if a == 0:\n",
    "        return 0\n",
    "    else:\n",
    "        return 1 + count_int(a % 10)\n",
    "print(count_int(12345))"
   ]
  },
  {
   "cell_type": "code",
   "execution_count": 30,
   "id": "07057cf7-f85e-4a28-ae66-414d88c4ebba",
   "metadata": {},
   "outputs": [
    {
     "name": "stdout",
     "output_type": "stream",
     "text": [
      "False\n"
     ]
    }
   ],
   "source": [
    "#Write a recursive function to check if a number is even (without using %).\n",
    "\n",
    "def check_int(a):\n",
    "    if a == 0:\n",
    "        return True\n",
    "    elif a == 1:\n",
    "        return False\n",
    "    return check_int(a - 2)\n",
    "print(check_int(5))"
   ]
  },
  {
   "cell_type": "code",
   "execution_count": 34,
   "id": "db6ee19f-dfc4-4053-a7ef-6833759d6670",
   "metadata": {},
   "outputs": [
    {
     "name": "stdout",
     "output_type": "stream",
     "text": [
      "odd\n",
      "even\n"
     ]
    }
   ],
   "source": [
    "#Write a recursive function to check if a number is even (without using %).\n",
    "\n",
    "def check_val(a):\n",
    "    if a % 2 == 0:\n",
    "        print(\"even\")\n",
    "    else:\n",
    "        print(\"odd\")\n",
    "check_val(33)\n",
    "check_val(20)"
   ]
  },
  {
   "cell_type": "code",
   "execution_count": 36,
   "id": "e1b37b4d-25be-41ae-b168-d93d65646fb8",
   "metadata": {},
   "outputs": [
    {
     "ename": "SyntaxError",
     "evalue": "invalid syntax (1866082461.py, line 6)",
     "output_type": "error",
     "traceback": [
      "\u001b[1;36m  Cell \u001b[1;32mIn[36], line 6\u001b[1;36m\u001b[0m\n\u001b[1;33m    a % 2 == 1:\u001b[0m\n\u001b[1;37m              ^\u001b[0m\n\u001b[1;31mSyntaxError\u001b[0m\u001b[1;31m:\u001b[0m invalid syntax\n"
     ]
    }
   ],
   "source": [
    "#Write a recursive function to sum even numbers from 1 to n.\n",
    "def even_num(a):\n",
    "    if a == 0:\n",
    "        return 0\n",
    "    else:\n",
    "        a % 2 == 1:\n",
    "        return even_num(a - 1)\n",
    "print(sum_even(10))"
   ]
  },
  {
   "cell_type": "code",
   "execution_count": 61,
   "id": "40c9fa01-ef28-48a4-baf1-88165745aa67",
   "metadata": {},
   "outputs": [
    {
     "name": "stdout",
     "output_type": "stream",
     "text": [
      "this is not leap year\n"
     ]
    }
   ],
   "source": [
    "#Write a function that checks if a year is a leap year.\n",
    "\n",
    "def leap_year(a):\n",
    "    if ( a % 4 == 0):\n",
    "        print(\"this is a leap year\")\n",
    "    else:\n",
    "        print(\"this is not leap year\")\n",
    "leap_year(2023)"
   ]
  },
  {
   "cell_type": "code",
   "execution_count": 62,
   "id": "97458d57-109b-4c65-95aa-41d505767eed",
   "metadata": {},
   "outputs": [
    {
     "name": "stdout",
     "output_type": "stream",
     "text": [
      "25.0\n"
     ]
    }
   ],
   "source": [
    "#Write a function to calculate the average of numbers in a list.\n",
    "\n",
    "def average_num(a):\n",
    "    if a == 0:\n",
    "        return 0\n",
    "    else:\n",
    "        return sum(a) / len(a)\n",
    "list = [10,20,30,40]\n",
    "print(average_num(list))"
   ]
  },
  {
   "cell_type": "code",
   "execution_count": null,
   "id": "e9c06f45-820b-4553-bea9-42bf83a6de8c",
   "metadata": {},
   "outputs": [],
   "source": []
  }
 ],
 "metadata": {
  "kernelspec": {
   "display_name": "Python 3 (ipykernel)",
   "language": "python",
   "name": "python3"
  },
  "language_info": {
   "codemirror_mode": {
    "name": "ipython",
    "version": 3
   },
   "file_extension": ".py",
   "mimetype": "text/x-python",
   "name": "python",
   "nbconvert_exporter": "python",
   "pygments_lexer": "ipython3",
   "version": "3.12.7"
  }
 },
 "nbformat": 4,
 "nbformat_minor": 5
}
